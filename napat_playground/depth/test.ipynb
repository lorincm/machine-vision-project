{
 "cells": [
  {
   "cell_type": "code",
   "execution_count": 1,
   "metadata": {},
   "outputs": [],
   "source": [
    "import cv2\n",
    "import numpy as np\n",
    "\n",
    "# Load the predefined dictionary\n",
    "dictionary = cv2.aruco.Dictionary_get(cv2.aruco.DICT_6X6_250)\n",
    "\n",
    "# Initialize the detector parameters using default values\n",
    "parameters = cv2.aruco.DetectorParameters_create()\n",
    "\n",
    "# Load the image\n",
    "image = cv2.imread('./images/main.jpg')\n",
    "\n",
    "# Convert the image to grayscale\n",
    "gray = cv2.cvtColor(image, cv2.COLOR_BGR2GRAY)\n",
    "\n",
    "# Detect the markers in the image\n",
    "corners, ids, rejectedImgPoints = cv2.aruco.detectMarkers(gray, dictionary, parameters=parameters)\n",
    "\n",
    "# If any markers are detected, draw them on the image\n",
    "if len(corners) > 0:\n",
    "    cv2.aruco.drawDetectedMarkers(image, corners, ids)\n",
    "\n",
    "# Display the result\n",
    "# cv2.imshow('Image with detected ArUco markers', image)\n",
    "# cv2.waitKey(0)\n",
    "# cv2.destroyAllWindows()\n"
   ]
  },
  {
   "cell_type": "code",
   "execution_count": 2,
   "metadata": {},
   "outputs": [
    {
     "name": "stdout",
     "output_type": "stream",
     "text": [
      "(array([[[883., 771.],\n",
      "        [958., 772.],\n",
      "        [957., 847.],\n",
      "        [882., 845.]]], dtype=float32), array([[[1358.,  456.],\n",
      "        [1282.,  455.],\n",
      "        [1282.,  381.],\n",
      "        [1358.,  382.]]], dtype=float32))\n"
     ]
    }
   ],
   "source": [
    "print(corners)"
   ]
  },
  {
   "cell_type": "code",
   "execution_count": 6,
   "metadata": {},
   "outputs": [
    {
     "name": "stdout",
     "output_type": "stream",
     "text": [
      "[[883. 771.]\n",
      " [958. 772.]\n",
      " [957. 847.]\n",
      " [882. 845.]]\n",
      "[[1358.  456.]\n",
      " [1282.  455.]\n",
      " [1282.  381.]\n",
      " [1358.  382.]]\n"
     ]
    }
   ],
   "source": [
    "for corner in corners:\n",
    "    for i in corner:\n",
    "        print(i)"
   ]
  },
  {
   "cell_type": "code",
   "execution_count": 7,
   "metadata": {},
   "outputs": [],
   "source": [
    "x = [(948, 804), (1348, 418)]"
   ]
  },
  {
   "cell_type": "code",
   "execution_count": 9,
   "metadata": {},
   "outputs": [
    {
     "data": {
      "text/plain": [
       "948"
      ]
     },
     "execution_count": 9,
     "metadata": {},
     "output_type": "execute_result"
    }
   ],
   "source": [
    "x[0][0]"
   ]
  },
  {
   "cell_type": "code",
   "execution_count": null,
   "metadata": {},
   "outputs": [],
   "source": []
  }
 ],
 "metadata": {
  "language_info": {
   "name": "python"
  },
  "orig_nbformat": 4
 },
 "nbformat": 4,
 "nbformat_minor": 2
}
