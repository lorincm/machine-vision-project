{
 "cells": [
  {
   "cell_type": "code",
   "execution_count": 1,
   "metadata": {},
   "outputs": [],
   "source": [
    "import cv2\n",
    "import numpy as np\n"
   ]
  },
  {
   "cell_type": "code",
   "execution_count": 2,
   "metadata": {},
   "outputs": [],
   "source": [
    "foldername = \"./calibration/03-11-23-23-03-rms-2.91-zed-0-ximea-0/\"\n"
   ]
  },
  {
   "cell_type": "code",
   "execution_count": 3,
   "metadata": {},
   "outputs": [
    {
     "ename": "FileNotFoundError",
     "evalue": "[Errno 2] No such file or directory: './calibration/03-11-23-23-03-rms-2.91-zed-0-ximea-0/mapL1.npy'",
     "output_type": "error",
     "traceback": [
      "\u001b[0;31m---------------------------------------------------------------------------\u001b[0m",
      "\u001b[0;31mFileNotFoundError\u001b[0m                         Traceback (most recent call last)",
      "Cell \u001b[0;32mIn[3], line 1\u001b[0m\n\u001b[0;32m----> 1\u001b[0m \u001b[43mnp\u001b[49m\u001b[38;5;241;43m.\u001b[39;49m\u001b[43mload\u001b[49m\u001b[43m(\u001b[49m\u001b[43mfoldername\u001b[49m\u001b[43m \u001b[49m\u001b[38;5;241;43m+\u001b[39;49m\u001b[43m \u001b[49m\u001b[38;5;124;43m'\u001b[39;49m\u001b[38;5;124;43mmapL1.npy\u001b[39;49m\u001b[38;5;124;43m'\u001b[39;49m\u001b[43m)\u001b[49m\n",
      "File \u001b[0;32m/opt/homebrew/lib/python3.11/site-packages/numpy/lib/npyio.py:405\u001b[0m, in \u001b[0;36mload\u001b[0;34m(file, mmap_mode, allow_pickle, fix_imports, encoding, max_header_size)\u001b[0m\n\u001b[1;32m    403\u001b[0m     own_fid \u001b[39m=\u001b[39m \u001b[39mFalse\u001b[39;00m\n\u001b[1;32m    404\u001b[0m \u001b[39melse\u001b[39;00m:\n\u001b[0;32m--> 405\u001b[0m     fid \u001b[39m=\u001b[39m stack\u001b[39m.\u001b[39menter_context(\u001b[39mopen\u001b[39;49m(os_fspath(file), \u001b[39m\"\u001b[39;49m\u001b[39mrb\u001b[39;49m\u001b[39m\"\u001b[39;49m))\n\u001b[1;32m    406\u001b[0m     own_fid \u001b[39m=\u001b[39m \u001b[39mTrue\u001b[39;00m\n\u001b[1;32m    408\u001b[0m \u001b[39m# Code to distinguish from NumPy binary files and pickles.\u001b[39;00m\n",
      "\u001b[0;31mFileNotFoundError\u001b[0m: [Errno 2] No such file or directory: './calibration/03-11-23-23-03-rms-2.91-zed-0-ximea-0/mapL1.npy'"
     ]
    }
   ],
   "source": [
    "np.load(foldername + 'mapL1.npy')\n"
   ]
  },
  {
   "cell_type": "code",
   "execution_count": null,
   "metadata": {},
   "outputs": [],
   "source": [
    "camera_matrix_l = np.array([\n",
    "    [1466.13872635954, 0, 0],\n",
    "    [0, 1467.08007074606, 0],\n",
    "    [950.108928032449, 561.029064709088, 1]\n",
    "])\n"
   ]
  },
  {
   "cell_type": "code",
   "execution_count": null,
   "metadata": {},
   "outputs": [],
   "source": [
    "camera_matrix_r = np.array([\n",
    "    [1473.79133491587, 0, 0],\n",
    "    [0, 1473.47703742484, 0],\n",
    "    [993.351980925199, 553.821909514726, 1]\n",
    "])\n"
   ]
  },
  {
   "cell_type": "code",
   "execution_count": null,
   "metadata": {},
   "outputs": [],
   "source": [
    "R = np.array([\n",
    "    [0.999990936934234, -0.00222672848666630, 0.00362873664515287],\n",
    "    [0.00223258918056130,\t0.999996208769726, -0.00161182868992654],\n",
    "    [-0.00362513378291714, 0.00161991555999023, 0.999992117108247]\n",
    "])\n"
   ]
  },
  {
   "cell_type": "code",
   "execution_count": null,
   "metadata": {},
   "outputs": [],
   "source": [
    "T = np.array([-30.2338346896780,\t0.301764459574396\t,0.498260377138997])"
   ]
  },
  {
   "cell_type": "code",
   "execution_count": null,
   "metadata": {},
   "outputs": [],
   "source": [
    "E = np.array([\n",
    "    [0.00220451432821486, -0.498744880732713, 0.300954941059972],\n",
    "    [0.607966485234359, -0.0476193514322165, 30.2317900991061],\n",
    "    [-0.234439183698587, -30.2343937823162, -0.0478823227150950]\n",
    "])\n",
    "\n",
    "F = np.array([\n",
    "    [1.02023886091988e-09, -2.30668682271453e-07, 0.000332647077365167],\n",
    "    [2.81424045324291e-07, -2.20285690253691e-08, 0.0202622885250377],\n",
    "    [-0.000316774714810985, -0.0203672154420848, 0.113903307102440]\n",
    "])\n"
   ]
  },
  {
   "cell_type": "code",
   "execution_count": null,
   "metadata": {},
   "outputs": [],
   "source": [
    "dist_coeffs_l = np.array([0.058358339057857,-0.085120119032410,0,0])"
   ]
  },
  {
   "cell_type": "code",
   "execution_count": null,
   "metadata": {},
   "outputs": [],
   "source": [
    "dist_coeffs_r = np.array([[0.015979454141892,0.021722255750566,0,0]])"
   ]
  },
  {
   "cell_type": "code",
   "execution_count": null,
   "metadata": {},
   "outputs": [],
   "source": []
  },
  {
   "cell_type": "markdown",
   "metadata": {},
   "source": [
    "save('stereoParams.mat', 'intrinsicMatrix1', 'distortionCoefficients1', 'intrinsicMatrix2', ...\n",
    "     'distortionCoefficients2', 'rotationOfCamera2', 'translationOfCamera2');\n",
    "\n",
    "% Creating a struct with your parameters\n",
    "data = struct('intrinsicMatrix1', intrinsicMatrix1, ...\n",
    "              'distortionCoefficients1', distortionCoefficients1, ...\n",
    "              'intrinsicMatrix2', intrinsicMatrix2, ...\n",
    "              'distortionCoefficients2', distortionCoefficients2, ...\n",
    "              'rotationOfCamera2', rotationOfCamera2, ...\n",
    "              'translationOfCamera2', translationOfCamera2);\n",
    "\n",
    "% Convert the struct to a JSON string\n",
    "jsonStr = jsonencode(data);\n",
    "\n",
    "% Save the JSON string to a file\n",
    "fid = fopen('stereoParams.json', 'w');\n",
    "if fid == -1, error('Cannot create JSON file'); end\n",
    "fwrite(fid, jsonStr, 'char');\n",
    "fclose(fid);\n"
   ]
  },
  {
   "cell_type": "code",
   "execution_count": null,
   "metadata": {},
   "outputs": [],
   "source": [
    "import json\n",
    "import numpy as np\n",
    "\n",
    "with open('./stereoParams.json', 'r') as f:\n",
    "    data = json.load(f)\n",
    "\n",
    "camera_matrix_l = np.array(data['intrinsicMatrix1'])\n",
    "dist_coeffs_l = np.array(data['distortionCoefficients1'])\n",
    "camera_matrix_r = np.array(data['intrinsicMatrix2'])\n",
    "dist_coeffs_r = np.array(data['distortionCoefficients2'])\n",
    "R = np.array(data['rotationOfCamera2'])\n",
    "T = np.array(data['translationOfCamera2'])\n"
   ]
  },
  {
   "cell_type": "code",
   "execution_count": 4,
   "metadata": {},
   "outputs": [],
   "source": [
    "import cv2"
   ]
  },
  {
   "cell_type": "code",
   "execution_count": 5,
   "metadata": {},
   "outputs": [
    {
     "data": {
      "text/plain": [
       "cv2.aruco.ArucoDetector"
      ]
     },
     "execution_count": 5,
     "metadata": {},
     "output_type": "execute_result"
    }
   ],
   "source": [
    "cv2.aruco.ArucoDetector\n"
   ]
  },
  {
   "cell_type": "code",
   "execution_count": null,
   "metadata": {},
   "outputs": [],
   "source": []
  }
 ],
 "metadata": {
  "kernelspec": {
   "display_name": "Python 3.11.0 64-bit",
   "language": "python",
   "name": "python3"
  },
  "language_info": {
   "codemirror_mode": {
    "name": "ipython",
    "version": 3
   },
   "file_extension": ".py",
   "mimetype": "text/x-python",
   "name": "python",
   "nbconvert_exporter": "python",
   "pygments_lexer": "ipython3",
   "version": "3.11.0"
  },
  "orig_nbformat": 4,
  "vscode": {
   "interpreter": {
    "hash": "5c7b89af1651d0b8571dde13640ecdccf7d5a6204171d6ab33e7c296e100e08a"
   }
  }
 },
 "nbformat": 4,
 "nbformat_minor": 2
}
