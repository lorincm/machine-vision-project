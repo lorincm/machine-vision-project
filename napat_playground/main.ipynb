{
 "cells": [
  {
   "cell_type": "code",
   "execution_count": 26,
   "metadata": {},
   "outputs": [],
   "source": [
    "import cv2\n",
    "import numpy as np\n",
    "from scipy.io import loadmat"
   ]
  },
  {
   "cell_type": "code",
   "execution_count": 1,
   "metadata": {},
   "outputs": [],
   "source": [
    "import glob"
   ]
  },
  {
   "cell_type": "code",
   "execution_count": 3,
   "metadata": {},
   "outputs": [
    {
     "data": {
      "text/plain": [
       "['./calibration_pic/left/left_20231027_172130_14.jpg',\n",
       " './calibration_pic/left/left_20231027_171915_2.jpg',\n",
       " './calibration_pic/left/left_20231027_172103_7.jpg',\n",
       " './calibration_pic/left/left_20231027_172128_13.jpg',\n",
       " './calibration_pic/left/left_20231027_171910_1.jpg',\n",
       " './calibration_pic/left/left_20231027_172124_12.jpg',\n",
       " './calibration_pic/left/left_20231027_172111_9.jpg',\n",
       " './calibration_pic/left/left_20231027_172136_16.jpg',\n",
       " './calibration_pic/left/left_20231027_172100_6.jpg',\n",
       " './calibration_pic/left/left_20231027_172119_11.jpg',\n",
       " './calibration_pic/left/left_20231027_172133_15.jpg',\n",
       " './calibration_pic/left/left_20231027_172115_10.jpg',\n",
       " './calibration_pic/left/left_20231027_171901_0.jpg',\n",
       " './calibration_pic/left/left_20231027_171921_3.jpg',\n",
       " './calibration_pic/left/left_20231027_172057_5.jpg',\n",
       " './calibration_pic/left/left_20231027_172053_4.jpg',\n",
       " './calibration_pic/left/left_20231027_172107_8.jpg']"
      ]
     },
     "execution_count": 3,
     "metadata": {},
     "output_type": "execute_result"
    }
   ],
   "source": [
    "glob.glob(\"./calibration_pic/left/left*.jpg\")"
   ]
  },
  {
   "cell_type": "code",
   "execution_count": 27,
   "metadata": {},
   "outputs": [],
   "source": [
    "width = 1920\n",
    "height = 1080"
   ]
  },
  {
   "cell_type": "code",
   "execution_count": 28,
   "metadata": {},
   "outputs": [],
   "source": [
    "# Load the MATLAB data\n",
    "data = loadmat('simplifiedStereoParams.mat')\n",
    "\n",
    "# Extract the parameters\n",
    "camera_matrix1 = data['CameraMatrix1']\n",
    "camera_matrix2 = data['CameraMatrix2']\n",
    "dist_coeffs1 = data['DistCoeffs1'][0]\n",
    "dist_coeffs2 = data['DistCoeffs2'][0]\n",
    "R = data['RotationOfCamera2']\n",
    "T = data['TranslationOfCamera2']\n",
    "\n",
    "# Image size (replace with your image dimensions)\n",
    "img_size = (1080, 1920)"
   ]
  },
  {
   "cell_type": "code",
   "execution_count": 31,
   "metadata": {},
   "outputs": [
    {
     "name": "stdout",
     "output_type": "stream",
     "text": [
      "(3, 3)\n",
      "(3, 3)\n",
      "(4,)\n",
      "(4,)\n",
      "(3, 3)\n",
      "(1, 3)\n"
     ]
    }
   ],
   "source": [
    "print(camera_matrix1.shape)\n",
    "print(camera_matrix2.shape)\n",
    "print(dist_coeffs1.shape)\n",
    "print(dist_coeffs2.shape)\n",
    "print(R.shape)\n",
    "print(T.shape)\n"
   ]
  },
  {
   "cell_type": "code",
   "execution_count": 30,
   "metadata": {},
   "outputs": [
    {
     "ename": "error",
     "evalue": "OpenCV(4.7.0) /Users/xperience/GHA-OCV-Python/_work/opencv-python/opencv-python/opencv/modules/core/src/matmul.dispatch.cpp:1109: error: (-215:Assertion failed) (D.cols == ((flags & 2) == 0 ? B.cols : B.rows)) in function 'cvGEMM'\n",
     "output_type": "error",
     "traceback": [
      "\u001b[0;31m---------------------------------------------------------------------------\u001b[0m",
      "\u001b[0;31merror\u001b[0m                                     Traceback (most recent call last)",
      "Cell \u001b[0;32mIn[30], line 1\u001b[0m\n\u001b[0;32m----> 1\u001b[0m R1, R2, P1, P2, Q, validPixROI1, validPixROI2 \u001b[38;5;241m=\u001b[39m \u001b[43mcv2\u001b[49m\u001b[38;5;241;43m.\u001b[39;49m\u001b[43mstereoRectify\u001b[49m\u001b[43m(\u001b[49m\u001b[43mleft_cam_matrix\u001b[49m\u001b[43m,\u001b[49m\u001b[43m \u001b[49m\u001b[43mleft_dist_coeffs\u001b[49m\u001b[43m,\u001b[49m\u001b[43m \u001b[49m\u001b[43mright_cam_matrix\u001b[49m\u001b[43m,\u001b[49m\u001b[43m \u001b[49m\u001b[43mright_dist_coeffs\u001b[49m\u001b[43m,\u001b[49m\u001b[43m \u001b[49m\u001b[43m(\u001b[49m\u001b[43mwidth\u001b[49m\u001b[43m,\u001b[49m\u001b[43m \u001b[49m\u001b[43mheight\u001b[49m\u001b[43m)\u001b[49m\u001b[43m,\u001b[49m\u001b[43m \u001b[49m\u001b[43mR\u001b[49m\u001b[43m,\u001b[49m\u001b[43m \u001b[49m\u001b[43mT\u001b[49m\u001b[43m)\u001b[49m\n",
      "\u001b[0;31merror\u001b[0m: OpenCV(4.7.0) /Users/xperience/GHA-OCV-Python/_work/opencv-python/opencv-python/opencv/modules/core/src/matmul.dispatch.cpp:1109: error: (-215:Assertion failed) (D.cols == ((flags & 2) == 0 ? B.cols : B.rows)) in function 'cvGEMM'\n"
     ]
    }
   ],
   "source": [
    "R1, R2, P1, P2, Q, validPixROI1, validPixROI2 = cv2.stereoRectify(left_cam_matrix, left_dist_coeffs, right_cam_matrix, right_dist_coeffs, (width, height), R, T)"
   ]
  },
  {
   "cell_type": "code",
   "execution_count": null,
   "metadata": {},
   "outputs": [],
   "source": []
  }
 ],
 "metadata": {
  "kernelspec": {
   "display_name": "Python 3.10.8 64-bit",
   "language": "python",
   "name": "python3"
  },
  "language_info": {
   "codemirror_mode": {
    "name": "ipython",
    "version": 3
   },
   "file_extension": ".py",
   "mimetype": "text/x-python",
   "name": "python",
   "nbconvert_exporter": "python",
   "pygments_lexer": "ipython3",
   "version": "3.10.8"
  },
  "orig_nbformat": 4,
  "vscode": {
   "interpreter": {
    "hash": "b0fa6594d8f4cbf19f97940f81e996739fb7646882a419484c72d19e05852a7e"
   }
  }
 },
 "nbformat": 4,
 "nbformat_minor": 2
}
