{
 "cells": [
  {
   "cell_type": "code",
   "execution_count": 21,
   "metadata": {},
   "outputs": [],
   "source": [
    "import cv2\n",
    "import numpy as np\n",
    "from scipy.io import loadmat"
   ]
  },
  {
   "cell_type": "code",
   "execution_count": 22,
   "metadata": {},
   "outputs": [],
   "source": [
    "width = 1920\n",
    "height = 1080"
   ]
  },
  {
   "cell_type": "code",
   "execution_count": 23,
   "metadata": {},
   "outputs": [],
   "source": [
    "# Load stereo parameters from .mat file\n",
    "mat_data = loadmat('processedStereoParams.mat')\n",
    "\n",
    "# Extract the stereo parameters from the loaded data and convert to the correct type\n",
    "left_cam_matrix = np.array(mat_data['LeftCam']['IntrinsicMatrix'][0,0].T, dtype=np.float32)\n",
    "right_cam_matrix = np.array(mat_data['RightCam']['IntrinsicMatrix'][0,0].T, dtype=np.float32)\n",
    "\n",
    "left_dist_coeffs = np.array(mat_data['LeftCam']['RadialDistortion'][0,0][:2], dtype=np.float32).flatten()\n",
    "right_dist_coeffs = np.array(mat_data['RightCam']['RadialDistortion'][0,0][:2], dtype=np.float32).flatten()\n",
    "\n",
    "R = np.array(mat_data['RotationOfCamera2'], dtype=np.float32)\n",
    "T = np.array(mat_data['TranslationOfCamera2'], dtype=np.float32).T"
   ]
  },
  {
   "cell_type": "code",
   "execution_count": 24,
   "metadata": {},
   "outputs": [
    {
     "name": "stdout",
     "output_type": "stream",
     "text": [
      "left_cam_matrix dtype: float32\n",
      "right_cam_matrix dtype: float32\n",
      "left_dist_coeffs dtype: float32\n",
      "right_dist_coeffs dtype: float32\n",
      "R dtype: float32\n",
      "T dtype: float32\n"
     ]
    }
   ],
   "source": [
    "print(\"left_cam_matrix dtype:\", left_cam_matrix.dtype)\n",
    "print(\"right_cam_matrix dtype:\", right_cam_matrix.dtype)\n",
    "print(\"left_dist_coeffs dtype:\", left_dist_coeffs.dtype)\n",
    "print(\"right_dist_coeffs dtype:\", right_dist_coeffs.dtype)\n",
    "print(\"R dtype:\", R.dtype)\n",
    "print(\"T dtype:\", T.dtype)\n"
   ]
  },
  {
   "cell_type": "code",
   "execution_count": 25,
   "metadata": {},
   "outputs": [
    {
     "ename": "error",
     "evalue": "OpenCV(4.7.0) /Users/xperience/GHA-OCV-Python/_work/opencv-python/opencv-python/opencv/modules/calib3d/src/calibration.cpp:270: error: (-205:Formats of input arguments do not match) All the matrices must have the same data type in function 'cvRodrigues2'\n",
     "output_type": "error",
     "traceback": [
      "\u001b[0;31m---------------------------------------------------------------------------\u001b[0m",
      "\u001b[0;31merror\u001b[0m                                     Traceback (most recent call last)",
      "Cell \u001b[0;32mIn[25], line 1\u001b[0m\n\u001b[0;32m----> 1\u001b[0m R1, R2, P1, P2, Q, validPixROI1, validPixROI2 \u001b[38;5;241m=\u001b[39m \u001b[43mcv2\u001b[49m\u001b[38;5;241;43m.\u001b[39;49m\u001b[43mstereoRectify\u001b[49m\u001b[43m(\u001b[49m\u001b[43mleft_cam_matrix\u001b[49m\u001b[43m,\u001b[49m\u001b[43m \u001b[49m\u001b[43mleft_dist_coeffs\u001b[49m\u001b[43m,\u001b[49m\u001b[43m \u001b[49m\u001b[43mright_cam_matrix\u001b[49m\u001b[43m,\u001b[49m\u001b[43m \u001b[49m\u001b[43mright_dist_coeffs\u001b[49m\u001b[43m,\u001b[49m\u001b[43m \u001b[49m\u001b[43m(\u001b[49m\u001b[43mwidth\u001b[49m\u001b[43m,\u001b[49m\u001b[43m \u001b[49m\u001b[43mheight\u001b[49m\u001b[43m)\u001b[49m\u001b[43m,\u001b[49m\u001b[43m \u001b[49m\u001b[43mR\u001b[49m\u001b[43m,\u001b[49m\u001b[43m \u001b[49m\u001b[43mT\u001b[49m\u001b[43m)\u001b[49m\n",
      "\u001b[0;31merror\u001b[0m: OpenCV(4.7.0) /Users/xperience/GHA-OCV-Python/_work/opencv-python/opencv-python/opencv/modules/calib3d/src/calibration.cpp:270: error: (-205:Formats of input arguments do not match) All the matrices must have the same data type in function 'cvRodrigues2'\n"
     ]
    }
   ],
   "source": [
    "R1, R2, P1, P2, Q, validPixROI1, validPixROI2 = cv2.stereoRectify(left_cam_matrix, left_dist_coeffs, right_cam_matrix, right_dist_coeffs, (width, height), R, T)"
   ]
  },
  {
   "cell_type": "code",
   "execution_count": null,
   "metadata": {},
   "outputs": [],
   "source": []
  }
 ],
 "metadata": {
  "kernelspec": {
   "display_name": "Python 3.11.0 64-bit",
   "language": "python",
   "name": "python3"
  },
  "language_info": {
   "codemirror_mode": {
    "name": "ipython",
    "version": 3
   },
   "file_extension": ".py",
   "mimetype": "text/x-python",
   "name": "python",
   "nbconvert_exporter": "python",
   "pygments_lexer": "ipython3",
   "version": "3.11.0"
  },
  "orig_nbformat": 4,
  "vscode": {
   "interpreter": {
    "hash": "5c7b89af1651d0b8571dde13640ecdccf7d5a6204171d6ab33e7c296e100e08a"
   }
  }
 },
 "nbformat": 4,
 "nbformat_minor": 2
}
