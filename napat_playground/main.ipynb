{
 "cells": [
  {
   "cell_type": "code",
   "execution_count": 5,
   "metadata": {},
   "outputs": [],
   "source": [
    "import cv2\n",
    "import numpy as np\n",
    "from scipy.io import loadmat"
   ]
  },
  {
   "cell_type": "code",
   "execution_count": 6,
   "metadata": {},
   "outputs": [
    {
     "name": "stdout",
     "output_type": "stream",
     "text": [
      "dict_keys(['__header__', '__version__', '__globals__', 'LeftCam', 'RightCam', 'RotationOfCamera2', 'TranslationOfCamera2'])\n"
     ]
    }
   ],
   "source": [
    "# Load stereo parameters from .mat file\n",
    "mat_data = loadmat('processedStereoParams.mat')\n",
    "\n",
    "# Print available keys\n",
    "print(mat_data.keys())"
   ]
  },
  {
   "cell_type": "code",
   "execution_count": 7,
   "metadata": {},
   "outputs": [
    {
     "name": "stdout",
     "output_type": "stream",
     "text": [
      "{'__header__': b'MATLAB 5.0 MAT-file, Platform: MACI64, Created on: Thu Oct 19 17:05:39 2023', '__version__': '1.0', '__globals__': [], 'LeftCam': array([[(array([[ 25.91464619,   0.        ,   0.        ],\n",
      "               [  0.        ,  21.32233244,   0.        ],\n",
      "               [522.28122496, 506.36928632,   1.        ]]), array([[3.53502119e-04, 3.41346299e-07]]))]],\n",
      "      dtype=[('IntrinsicMatrix', 'O'), ('RadialDistortion', 'O')]), 'RightCam': array([[(array([[ 14.0866403 ,   0.        ,   0.        ],\n",
      "               [  0.        ,  15.53910712,   0.        ],\n",
      "               [683.70806581, 510.71312241,   1.        ]]), array([[-1.39202625e-04,  1.32515889e-08]]))]],\n",
      "      dtype=[('IntrinsicMatrix', 'O'), ('RadialDistortion', 'O')]), 'RotationOfCamera2': array([[ 9.93160800e-01, -1.11837392e-01, -3.35264406e-02],\n",
      "       [ 1.11782150e-01,  9.93726490e-01, -3.52346143e-03],\n",
      "       [ 3.37101669e-02, -2.48293839e-04,  9.99431620e-01]]), 'TranslationOfCamera2': array([[-61.44495586,  14.19342531,   1.25364859]])}\n"
     ]
    }
   ],
   "source": [
    "print(gray1.shape)\n",
    "print(gray2.shape)\n"
   ]
  },
  {
   "cell_type": "code",
   "execution_count": null,
   "metadata": {},
   "outputs": [],
   "source": []
  }
 ],
 "metadata": {
  "kernelspec": {
   "display_name": "Python 3.11.0 64-bit",
   "language": "python",
   "name": "python3"
  },
  "language_info": {
   "codemirror_mode": {
    "name": "ipython",
    "version": 3
   },
   "file_extension": ".py",
   "mimetype": "text/x-python",
   "name": "python",
   "nbconvert_exporter": "python",
   "pygments_lexer": "ipython3",
   "version": "3.11.0"
  },
  "orig_nbformat": 4,
  "vscode": {
   "interpreter": {
    "hash": "5c7b89af1651d0b8571dde13640ecdccf7d5a6204171d6ab33e7c296e100e08a"
   }
  }
 },
 "nbformat": 4,
 "nbformat_minor": 2
}
