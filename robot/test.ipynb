{
 "cells": [
  {
   "cell_type": "code",
   "execution_count": 44,
   "metadata": {},
   "outputs": [],
   "source": [
    "from pymycobot.mycobot import MyCobot\n",
    "import time\n",
    "Half_Block_Size=20"
   ]
  },
  {
   "cell_type": "code",
   "execution_count": 45,
   "metadata": {},
   "outputs": [],
   "source": [
    "mc = MyCobot('/dev/tty.usbserial-54790107521',115200)\n",
    "POS_LIST = {            \n",
    "    \"left_back_corner\":\n",
    "        [[225, 75, 230, -180, 0, 0],      # up\n",
    "        [225, 75, 100, -180, 0, 0]],   # down\n",
    "         \n",
    "    \"right_back_corner\":\n",
    "        [[225, -75, 230, -180, 0, 0],      # up\n",
    "        [225, -75, 100, -180, 0, 0]],   # down\n",
    "        \n",
    "    \"center\":\n",
    "        [[150, 30, 230, -180, 0, 0],      # up\n",
    "        [150, 30, 100, -180, 0, 0]],   # down\n",
    "    \n",
    "    \"box_left_middle\":\n",
    "        [[120, 170, 240, -180, 0, 0],      # up\n",
    "        [120, 170, 175, -180, 0, 0]],   # down\n",
    "    \n",
    "    \"box_left_back\":\n",
    "        [[200, 120, 230, -180, 0,0],      # up\n",
    "        [215, 150, 220, -150, 0, -60]],   # down\n",
    "        \n",
    "    \"box_right_middle\":\n",
    "        [[120, -150, 240, -180, 0, 0],      # up\n",
    "        [120, -150, 175, -180, 0, 0]],   # down\n",
    "    \n",
    "    \"box_right_back\":\n",
    "        [[200, -100, 235, -180, 0,0],      # up\n",
    "        [220, -140, 220, -150, -10, -80]],   # down\n",
    "}\n",
    "MODE = 0"
   ]
  },
  {
   "cell_type": "code",
   "execution_count": 46,
   "metadata": {},
   "outputs": [],
   "source": [
    "def pump_on():\n",
    "    mc.set_basic_output(2, 0)\n",
    "    mc.set_basic_output(5, 0)\n",
    "\n",
    "def pump_off():\n",
    "    mc.set_basic_output(2, 1)\n",
    "    mc.set_basic_output(5, 1)\n",
    "    \n",
    "def init():\n",
    "    mc.send_angles([0, 0, 0, 0, 0, 0], 50) \n",
    "    time.sleep(3)\n",
    "    \n",
    "def grasp(position):\n",
    "    pump_on()\n",
    "    mc.send_coords(POS_LIST[position][0], 40, MODE)\n",
    "    time.sleep(4)\n",
    "    mc.send_coords(POS_LIST[position][1], 40, MODE)\n",
    "    time.sleep(6)\n",
    "    mc.send_coords(POS_LIST[position][0], 40, MODE)\n",
    "    time.sleep(2)\n",
    "\n",
    "def put_off(position):\n",
    "    mc.send_coords(POS_LIST[position][0], 40, MODE)\n",
    "    time.sleep(2)\n",
    "    mc.send_coords(POS_LIST[position][1], 40, MODE)\n",
    "    time.sleep(2)\n",
    "    pump_off()\n",
    "    time.sleep(4)\n",
    "    mc.send_coords(POS_LIST[position][0], 40, MODE)\n",
    "    time.sleep(2)"
   ]
  },
  {
   "cell_type": "code",
   "execution_count": 47,
   "metadata": {},
   "outputs": [],
   "source": [
    "init()\n",
    "grasp(position=\"center\")\n",
    "pump_off()"
   ]
  },
  {
   "cell_type": "code",
   "execution_count": null,
   "metadata": {},
   "outputs": [],
   "source": []
  },
  {
   "cell_type": "code",
   "execution_count": 48,
   "metadata": {},
   "outputs": [],
   "source": [
    "# mc.release_all_servos()"
   ]
  },
  {
   "cell_type": "code",
   "execution_count": null,
   "metadata": {},
   "outputs": [],
   "source": []
  }
 ],
 "metadata": {
  "kernelspec": {
   "display_name": "Python 3.10.8 64-bit",
   "language": "python",
   "name": "python3"
  },
  "language_info": {
   "codemirror_mode": {
    "name": "ipython",
    "version": 3
   },
   "file_extension": ".py",
   "mimetype": "text/x-python",
   "name": "python",
   "nbconvert_exporter": "python",
   "pygments_lexer": "ipython3",
   "version": "3.10.8"
  },
  "orig_nbformat": 4,
  "vscode": {
   "interpreter": {
    "hash": "b0fa6594d8f4cbf19f97940f81e996739fb7646882a419484c72d19e05852a7e"
   }
  }
 },
 "nbformat": 4,
 "nbformat_minor": 2
}
